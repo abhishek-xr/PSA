{
  "metadata": {
    "language_info": {
      "codemirror_mode": {
        "name": "python",
        "version": 3
      },
      "file_extension": ".py",
      "mimetype": "text/x-python",
      "name": "python",
      "nbconvert_exporter": "python",
      "pygments_lexer": "ipython3",
      "version": "3.8"
    },
    "kernelspec": {
      "name": "python",
      "display_name": "Python (Pyodide)",
      "language": "python"
    }
  },
  "nbformat_minor": 4,
  "nbformat": 4,
  "cells": [
    {
      "cell_type": "code",
      "source": "def manhattan_distance(p1, p2):\n    return abs(p1[0] - p2[0]) + abs(p1[1] - p2[1])\n\ndef minimum_cost(points):\n    n = len(points)\n    dist = [[0]*n for _ in range(n)]\n    for i in range(n):\n        for j in range(i+1, n):\n            d = manhattan_distance(points[i], points[j])\n            dist[i][j] = d\n            dist[j][i] = d\n    \n    # Kruskal's algorithm to find minimal spanning tree\n    root = list(range(n))\n    edges = []\n    for i in range(n):\n        for j in range(i+1, n):\n            edges.append((dist[i][j], i, j))\n    edges.sort()\n\n    mst_cost = 0\n    for d, u, v in edges:\n        ru, rv = root[u], root[v]\n        if ru != rv:\n            mst_cost += d\n            for i in range(n):\n                if root[i] == ru:\n                    root[i] = rv\n\n    # Return the final cost\n    return mst_cost\npoints = [[0,0],[2,2],[3,10],[5,2],[7,0]]\nresult = minimum_cost(points)\nprint(result)  # Output: 20\n",
      "metadata": {
        "trusted": true
      },
      "execution_count": 4,
      "outputs": [
        {
          "name": "stdout",
          "text": "20\n",
          "output_type": "stream"
        }
      ]
    },
    {
      "cell_type": "code",
      "source": "",
      "metadata": {},
      "execution_count": null,
      "outputs": []
    }
  ]
}